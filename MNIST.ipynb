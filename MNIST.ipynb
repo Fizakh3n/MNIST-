{
  "nbformat": 4,
  "nbformat_minor": 0,
  "metadata": {
    "colab": {
      "provenance": []
    },
    "kernelspec": {
      "name": "python3",
      "display_name": "Python 3"
    },
    "language_info": {
      "name": "python"
    }
  },
  "cells": [
    {
      "cell_type": "markdown",
      "source": [
        "\n",
        "# This project classifies handwritten digits using the **MNIST dataset**."
      ],
      "metadata": {
        "id": "S5msWPgGTIEt"
      }
    },
    {
      "cell_type": "code",
      "execution_count": null,
      "metadata": {
        "id": "GBYQRPyoRGXJ"
      },
      "outputs": [],
      "source": [
        "# Import necessary libraries\n",
        "import numpy as np\n",
        "import matplotlib.pyplot as plt\n",
        "import seaborn as sns\n",
        "from tensorflow.keras.datasets import mnist\n",
        "from tensorflow.keras.models import Sequential\n",
        "from tensorflow.keras.layers import Dense\n",
        "from tensorflow.keras.utils import to_categorical"
      ]
    },
    {
      "cell_type": "markdown",
      "source": [
        "# Loading the Dataset"
      ],
      "metadata": {
        "id": "dL_lVbFiS7x1"
      }
    },
    {
      "cell_type": "code",
      "source": [
        "(X_train, y_train), (X_test, y_test) = mnist.load_data()\n"
      ],
      "metadata": {
        "id": "rOjtrgc2SGyA"
      },
      "execution_count": null,
      "outputs": []
    },
    {
      "cell_type": "code",
      "source": [
        "print(f\"Training data shape: {X_train.shape}, Labels shape: {y_train.shape}\")\n",
        "print(f\"Training data shape: {X_test.shape}, Labels shape: {y_test.shape}\")"
      ],
      "metadata": {
        "colab": {
          "base_uri": "https://localhost:8080/"
        },
        "id": "jWaChzJ-TX7n",
        "outputId": "7227aa6e-791c-4c58-da76-09370a1dc485"
      },
      "execution_count": null,
      "outputs": [
        {
          "output_type": "stream",
          "name": "stdout",
          "text": [
            "Training data shape: (60000, 28, 28), Labels shape: (60000,)\n",
            "Training data shape: (10000, 28, 28), Labels shape: (10000,)\n"
          ]
        }
      ]
    },
    {
      "cell_type": "markdown",
      "source": [
        " # Visualize some samples from the training data"
      ],
      "metadata": {
        "id": "pxxJanLhTrEU"
      }
    },
    {
      "cell_type": "code",
      "source": [
        "fig, axes = plt.subplots(1, 5, figsize=(10, 5))\n",
        "for i in range(5):\n",
        "    axes[i].imshow(X_train[i], cmap='gray')\n",
        "    axes[i].set_title(f\"Label: {y_train[i]}\")\n",
        "    axes[i].axis('off')\n",
        "plt.show()"
      ],
      "metadata": {
        "colab": {
          "base_uri": "https://localhost:8080/",
          "height": 192
        },
        "id": "fHeJFDibTgQj",
        "outputId": "eb098ca7-fa49-40b4-afc9-c79bf7741feb"
      },
      "execution_count": null,
      "outputs": [
        {
          "output_type": "display_data",
          "data": {
            "text/plain": [
              "<Figure size 1000x500 with 5 Axes>"
            ],
            "image/png": "[encoded data removed]"
          },
          "metadata": {}
        }
      ]
    },
    {
      "cell_type": "markdown",
      "source": [
        "# Manually flatten the images from (28,28) to (784,)"
      ],
      "metadata": {
        "id": "06LOhlGgUDlc"
      }
    },
    {
      "cell_type": "code",
      "source": [
        "X_train_flattened = X_train.reshape(X_train.shape[0], 28 * 28).astype('float32')\n",
        "X_test_flattened = X_test.reshape(X_test.shape[0], 28 * 28).astype('float32')\n"
      ],
      "metadata": {
        "id": "M80PByvTT2e8"
      },
      "execution_count": null,
      "outputs": []
    },
    {
      "cell_type": "markdown",
      "source": [
        "# Normalize pixel values to be between 0 and 1"
      ],
      "metadata": {
        "id": "HkzxZb-XUOiz"
      }
    },
    {
      "cell_type": "code",
      "source": [
        "X_train_flattened /= 255.0\n",
        "X_test_flattened /= 255.0"
      ],
      "metadata": {
        "id": "L9DYs0sxUH29"
      },
      "execution_count": null,
      "outputs": []
    },
    {
      "cell_type": "markdown",
      "source": [
        "# Convert labels to **one-hot encoding**"
      ],
      "metadata": {
        "id": "2KbqviXNUelU"
      }
    },
    {
      "cell_type": "code",
      "source": [
        "y_train = to_categorical(y_train, 10)\n",
        "y_test = to_categorical(y_test, 10)\n"
      ],
      "metadata": {
        "id": "gWHFrLzsUXNn"
      },
      "execution_count": null,
      "outputs": []
    },
    {
      "cell_type": "markdown",
      "source": [
        "# Build the model without a hidden layer"
      ],
      "metadata": {
        "id": "wWrBe3oUVAOz"
      }
    },
    {
      "cell_type": "code",
      "source": [
        "model = Sequential([\n",
        "    Dense(10, activation='softmax', input_shape=(784,))  # Output layer with 10 neurons for 10 classes\n",
        "])"
      ],
      "metadata": {
        "colab": {
          "base_uri": "https://localhost:8080/"
        },
        "id": "mweNyTYpU-ET",
        "outputId": "3411b8f0-8eca-40d8-8025-1f6acfdec376"
      },
      "execution_count": null,
      "outputs": [
        {
          "output_type": "stream",
          "name": "stderr",
          "text": [
            "/usr/local/lib/python3.10/dist-packages/keras/src/layers/core/dense.py:87: UserWarning: Do not pass an `input_shape`/`input_dim` argument to a layer. When using Sequential models, prefer using an `Input(shape)` object as the first layer in the model instead.\n",
            "  super().__init__(activity_regularizer=activity_regularizer, **kwargs)\n"
          ]
        }
      ]
    },
    {
      "cell_type": "markdown",
      "source": [
        "#  Compile the model"
      ],
      "metadata": {
        "id": "Gwdoo7qkVHBc"
      }
    },
    {
      "cell_type": "code",
      "source": [
        "model.compile(optimizer='adam',\n",
        "              loss='categorical_crossentropy',\n",
        "              metrics=['accuracy'])"
      ],
      "metadata": {
        "id": "Pi4lcR8TVDcm"
      },
      "execution_count": null,
      "outputs": []
    },
    {
      "cell_type": "markdown",
      "source": [
        "# Train the **model**"
      ],
      "metadata": {
        "id": "oe-q4ESTVOnS"
      }
    },
    {
      "cell_type": "code",
      "source": [
        "model.fit(X_train_flattened, y_train, epochs=5, batch_size=32, validation_split=0.2)\n"
      ],
      "metadata": {
        "colab": {
          "base_uri": "https://localhost:8080/"
        },
        "id": "iW8PTANoVLso",
        "outputId": "c37be9d7-feb7-4b18-cceb-4a25e520360b"
      },
      "execution_count": null,
      "outputs": [
        {
          "output_type": "stream",
          "name": "stdout",
          "text": [
            "Epoch 1/5\n",
            "\u001b[1m1500/1500\u001b[0m \u001b[32m━━━━━━━━━━━━━━━━━━━━\u001b[0m\u001b[37m\u001b[0m \u001b[1m4s\u001b[0m 2ms/step - accuracy: 0.8017 - loss: 0.7720 - val_accuracy: 0.9114 - val_loss: 0.3182\n",
            "Epoch 2/5\n",
            "\u001b[1m1500/1500\u001b[0m \u001b[32m━━━━━━━━━━━━━━━━━━━━\u001b[0m\u001b[37m\u001b[0m \u001b[1m6s\u001b[0m 3ms/step - accuracy: 0.9087 - loss: 0.3316 - val_accuracy: 0.9195 - val_loss: 0.2860\n",
            "Epoch 3/5\n",
            "\u001b[1m1500/1500\u001b[0m \u001b[32m━━━━━━━━━━━━━━━━━━━━\u001b[0m\u001b[37m\u001b[0m \u001b[1m3s\u001b[0m 2ms/step - accuracy: 0.9183 - loss: 0.2941 - val_accuracy: 0.9232 - val_loss: 0.2757\n",
            "Epoch 4/5\n",
            "\u001b[1m1500/1500\u001b[0m \u001b[32m━━━━━━━━━━━━━━━━━━━━\u001b[0m\u001b[37m\u001b[0m \u001b[1m3s\u001b[0m 2ms/step - accuracy: 0.9246 - loss: 0.2753 - val_accuracy: 0.9247 - val_loss: 0.2709\n",
            "Epoch 5/5\n",
            "\u001b[1m1500/1500\u001b[0m \u001b[32m━━━━━━━━━━━━━━━━━━━━\u001b[0m\u001b[37m\u001b[0m \u001b[1m6s\u001b[0m 2ms/step - accuracy: 0.9215 - loss: 0.2722 - val_accuracy: 0.9274 - val_loss: 0.2668\n"
          ]
        },
        {
          "output_type": "execute_result",
          "data": {
            "text/plain": [
              "<keras.src.callbacks.history.History at 0x7b08f805ba30>"
            ]
          },
          "metadata": {},
          "execution_count": 10
        }
      ]
    },
    {
      "cell_type": "markdown",
      "source": [
        "# Evaluate the model on the test set"
      ],
      "metadata": {
        "id": "ZZRoYAmwVYcC"
      }
    },
    {
      "cell_type": "code",
      "source": [
        "test_loss, test_accuracy = model.evaluate(X_test_flattened, y_test, verbose=2)\n",
        "print(f\"Test Loss: {test_loss}, Test Accuracy: {test_accuracy}\")"
      ],
      "metadata": {
        "colab": {
          "base_uri": "https://localhost:8080/"
        },
        "id": "pcMjC5Q_VVZe",
        "outputId": "615b948f-70b6-47e0-eaab-c109da836a5e"
      },
      "execution_count": null,
      "outputs": [
        {
          "output_type": "stream",
          "name": "stdout",
          "text": [
            "313/313 - 1s - 2ms/step - accuracy: 0.9255 - loss: 0.2696\n",
            "Test Loss: 0.26963794231414795, Test Accuracy: 0.9254999756813049\n"
          ]
        }
      ]
    },
    {
      "cell_type": "markdown",
      "source": [
        " # Make predictions on some test samples"
      ],
      "metadata": {
        "id": "1545E4ISVpUb"
      }
    },
    {
      "cell_type": "code",
      "source": [
        "predictions = np.argmax(model.predict(X_test_flattened[:5]), axis=1)"
      ],
      "metadata": {
        "colab": {
          "base_uri": "https://localhost:8080/"
        },
        "id": "-v3DtF5HViu_",
        "outputId": "5367a701-4239-4d3a-ebcf-36689d32651f"
      },
      "execution_count": null,
      "outputs": [
        {
          "output_type": "stream",
          "name": "stdout",
          "text": [
            "\u001b[1m1/1\u001b[0m \u001b[32m━━━━━━━━━━━━━━━━━━━━\u001b[0m\u001b[37m\u001b[0m \u001b[1m0s\u001b[0m 44ms/step\n"
          ]
        }
      ]
    },
    {
      "cell_type": "code",
      "source": [
        "print(\"Predicted labels:\", predictions)\n",
        "print(\"Actual labels:\", np.argmax(y_test[:5], axis=1))"
      ],
      "metadata": {
        "colab": {
          "base_uri": "https://localhost:8080/"
        },
        "id": "CulXtbQgVt0G",
        "outputId": "e480828a-f990-44a0-e39d-8db47e209a24"
      },
      "execution_count": null,
      "outputs": [
        {
          "output_type": "stream",
          "name": "stdout",
          "text": [
            "Predicted labels: [7 2 1 0 4]\n",
            "Actual labels: [7 2 1 0 4]\n"
          ]
        }
      ]
    },
    {
      "cell_type": "markdown",
      "source": [
        "# Visualising it"
      ],
      "metadata": {
        "id": "tMP7VlcaV4JL"
      }
    },
    {
      "cell_type": "code",
      "source": [
        "fig, axes = plt.subplots(1, 5, figsize=(10, 5))\n",
        "for i in range(5):\n",
        "    axes[i].imshow(X_test[i], cmap='gray')\n",
        "    axes[i].set_title(f\"Pred: {predictions[i]}, Actual: {np.argmax(y_test[i])}\")\n",
        "    axes[i].axis('off')\n",
        "plt.show()"
      ],
      "metadata": {
        "colab": {
          "base_uri": "https://localhost:8080/",
          "height": 192
        },
        "id": "xmYR8JcoVwB-",
        "outputId": "26ffde5d-e964-46de-bc52-1a40abb12aeb"
      },
      "execution_count": null,
      "outputs": [
        {
          "output_type": "display_data",
          "data": {
            "text/plain": [
              "<Figure size 1000x500 with 5 Axes>"
            ],
            "image/png": "[encoded data removed]"
          },
          "metadata": {}
        }
      ]
    },
    {
      "cell_type": "markdown",
      "source": [
        "# Model with One Hidden Layer and Keras Flatten Layer"
      ],
      "metadata": {
        "id": "E51ZZAIrV8gz"
      }
    },
    {
      "cell_type": "code",
      "source": [
        "from tensorflow.keras.layers import Flatten\n"
      ],
      "metadata": {
        "id": "poy3wsGDV2ih"
      },
      "execution_count": null,
      "outputs": []
    },
    {
      "cell_type": "code",
      "source": [
        "model = Sequential([\n",
        "    Flatten(input_shape=(28, 28)),  # Flattening the input using Keras' built-in Flatten layer\n",
        "    Dense(128, activation='relu'),  # Hidden layer with ReLU activation\n",
        "    Dense(10, activation='softmax')  # Output layer with softmax for 10 classes\n",
        "])"
      ],
      "metadata": {
        "colab": {
          "base_uri": "https://localhost:8080/"
        },
        "id": "eaQiZrflWDAJ",
        "outputId": "f164dc35-e897-42eb-a65d-f8d5f5e22be8"
      },
      "execution_count": null,
      "outputs": [
        {
          "output_type": "stream",
          "name": "stderr",
          "text": [
            "/usr/local/lib/python3.10/dist-packages/keras/src/layers/reshaping/flatten.py:37: UserWarning: Do not pass an `input_shape`/`input_dim` argument to a layer. When using Sequential models, prefer using an `Input(shape)` object as the first layer in the model instead.\n",
            "  super().__init__(**kwargs)\n"
          ]
        }
      ]
    },
    {
      "cell_type": "code",
      "source": [
        "model.compile(optimizer='adam',\n",
        "              loss='categorical_crossentropy',\n",
        "              metrics=['accuracy'])\n"
      ],
      "metadata": {
        "id": "TivlomAWWE_L"
      },
      "execution_count": null,
      "outputs": []
    },
    {
      "cell_type": "code",
      "source": [
        "model.fit(X_train, y_train, epochs=5, batch_size=32, validation_split=0.2)"
      ],
      "metadata": {
        "colab": {
          "base_uri": "https://localhost:8080/"
        },
        "id": "8XEdKykzWKWA",
        "outputId": "5606b650-1f87-41cf-c01f-9659cf47962b"
      },
      "execution_count": null,
      "outputs": [
        {
          "output_type": "stream",
          "name": "stdout",
          "text": [
            "Epoch 1/5\n",
            "\u001b[1m1500/1500\u001b[0m \u001b[32m━━━━━━━━━━━━━━━━━━━━\u001b[0m\u001b[37m\u001b[0m \u001b[1m7s\u001b[0m 4ms/step - accuracy: 0.8146 - loss: 8.0147 - val_accuracy: 0.8785 - val_loss: 0.5143\n",
            "Epoch 2/5\n",
            "\u001b[1m1500/1500\u001b[0m \u001b[32m━━━━━━━━━━━━━━━━━━━━\u001b[0m\u001b[37m\u001b[0m \u001b[1m10s\u001b[0m 4ms/step - accuracy: 0.8958 - loss: 0.4374 - val_accuracy: 0.9227 - val_loss: 0.3374\n",
            "Epoch 3/5\n",
            "\u001b[1m1500/1500\u001b[0m \u001b[32m━━━━━━━━━━━━━━━━━━━━\u001b[0m\u001b[37m\u001b[0m \u001b[1m7s\u001b[0m 5ms/step - accuracy: 0.9242 - loss: 0.3122 - val_accuracy: 0.9233 - val_loss: 0.3437\n",
            "Epoch 4/5\n",
            "\u001b[1m1500/1500\u001b[0m \u001b[32m━━━━━━━━━━━━━━━━━━━━\u001b[0m\u001b[37m\u001b[0m \u001b[1m6s\u001b[0m 4ms/step - accuracy: 0.9315 - loss: 0.2710 - val_accuracy: 0.9277 - val_loss: 0.2952\n",
            "Epoch 5/5\n",
            "\u001b[1m1500/1500\u001b[0m \u001b[32m━━━━━━━━━━━━━━━━━━━━\u001b[0m\u001b[37m\u001b[0m \u001b[1m11s\u001b[0m 4ms/step - accuracy: 0.9421 - loss: 0.2297 - val_accuracy: 0.9333 - val_loss: 0.3194\n"
          ]
        },
        {
          "output_type": "execute_result",
          "data": {
            "text/plain": [
              "<keras.src.callbacks.history.History at 0x7b08f2eb3880>"
            ]
          },
          "metadata": {},
          "execution_count": 18
        }
      ]
    },
    {
      "cell_type": "code",
      "source": [
        "test_loss, test_accuracy = model.evaluate(X_test, y_test, verbose=2)\n",
        "print(f\"Test Loss: {test_loss}, Test Accuracy: {test_accuracy}\")\n"
      ],
      "metadata": {
        "colab": {
          "base_uri": "https://localhost:8080/"
        },
        "id": "d3-U82ibWNC4",
        "outputId": "2910628f-aeac-4d9d-fc00-68aa57229363"
      },
      "execution_count": null,
      "outputs": [
        {
          "output_type": "stream",
          "name": "stdout",
          "text": [
            "313/313 - 1s - 2ms/step - accuracy: 0.9321 - loss: 0.3406\n",
            "Test Loss: 0.3405775725841522, Test Accuracy: 0.9320999979972839\n"
          ]
        }
      ]
    },
    {
      "cell_type": "code",
      "source": [
        "predictions = np.argmax(model.predict(X_test[:5]), axis=1)"
      ],
      "metadata": {
        "colab": {
          "base_uri": "https://localhost:8080/"
        },
        "id": "qi7h2IJUWgus",
        "outputId": "f85779ad-8dd0-49e1-c1c2-e9c431360729"
      },
      "execution_count": null,
      "outputs": [
        {
          "output_type": "stream",
          "name": "stdout",
          "text": [
            "\u001b[1m1/1\u001b[0m \u001b[32m━━━━━━━━━━━━━━━━━━━━\u001b[0m\u001b[37m\u001b[0m \u001b[1m0s\u001b[0m 55ms/step\n"
          ]
        }
      ]
    },
    {
      "cell_type": "code",
      "source": [
        "print(\"Predicted labels:\", predictions)\n",
        "print(\"Actual labels:\", np.argmax(y_test[:5], axis=1))\n"
      ],
      "metadata": {
        "colab": {
          "base_uri": "https://localhost:8080/"
        },
        "id": "zML-TZHLWpAM",
        "outputId": "cf8691ce-1287-4508-a603-e23b48e2a4bc"
      },
      "execution_count": null,
      "outputs": [
        {
          "output_type": "stream",
          "name": "stdout",
          "text": [
            "Predicted labels: [7 2 1 0 4]\n",
            "Actual labels: [7 2 1 0 4]\n"
          ]
        }
      ]
    },
    {
      "cell_type": "code",
      "source": [
        "fig, axes = plt.subplots(1, 5, figsize=(10, 5))\n",
        "for i in range(5):\n",
        "    axes[i].imshow(X_test[i], cmap='gray')\n",
        "    axes[i].set_title(f\"Pred: {predictions[i]}, Actual: {np.argmax(y_test[i])}\")\n",
        "    axes[i].axis('off')\n",
        "plt.show()"
      ],
      "metadata": {
        "colab": {
          "base_uri": "https://localhost:8080/",
          "height": 192
        },
        "id": "q_bXJGj0WudH",
        "outputId": "45b7291a-55c5-42b0-acc2-c4f14020a213"
      },
      "execution_count": null,
      "outputs": [
        {
          "output_type": "display_data",
          "data": {
            "text/plain": [
              "<Figure size 1000x500 with 5 Axes>"
            ],
            "image/png": "[encoded data removed]"
          },
          "metadata": {}
        }
      ]
    },
    {
      "cell_type": "markdown",
      "source": [
        "# THANK YOU !!"
      ],
      "metadata": {
        "id": "xNh66UkEW7tl"
      }
    },
    {
      "cell_type": "code",
      "source": [],
      "metadata": {
        "id": "w4MGhaGsWzAJ"
      },
      "execution_count": null,
      "outputs": []
    }
  ]
}